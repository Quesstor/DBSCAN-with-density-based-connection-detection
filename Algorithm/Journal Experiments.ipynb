{
 "cells": [
  {
   "cell_type": "code",
   "execution_count": 1,
   "metadata": {},
   "outputs": [],
   "source": [
    "import chaindetection\n",
    "import plot\n",
    "import numpy as np\n",
    "import scipy\n",
    "import scipy.cluster\n",
    "import math\n",
    "import sklearn\n",
    "import matplotlib.pyplot as plt\n",
    "import dataloader\n",
    "import collections"
   ]
  },
  {
   "cell_type": "code",
   "execution_count": 2,
   "metadata": {},
   "outputs": [
    {
     "name": "stdout",
     "output_type": "stream",
     "text": [
      "Running Jitter 0.3\n",
      ".XX.X.X..X.X..XXXX..X..XX.XXXX.XX....XXXXX.XXXX.XX.....X.XX.XX.XXX...XX.X..XXXX.XXX..X....X.X..X.X.XX.X..XX."
     ]
    }
   ],
   "source": [
    "if __name__ == '__main__':   \n",
    "    var = 0.3 #for clusters\n",
    "    wantedDist = 0.05 #for spline\n",
    "    eps=.3\n",
    "    min_samples=4\n",
    "    runs = 50\n",
    "    debug = 0\n",
    "    \n",
    "    for jitter in [.3]: #for spline    \n",
    "        print(f\"Running Jitter {jitter}\", flush=True)\n",
    "        name = f\"avg nmi score hierarchyCluster var {var}, wantedDist {wantedDist}, jitter {jitter}, eps {eps}, min_samples {min_samples}, runs {runs}\"\n",
    "        \n",
    "        def DBSCANclustering(points):\n",
    "            return sklearn.cluster.DBSCAN(eps=eps, min_samples=min_samples).fit(points).labels_\n",
    "\n",
    "        def hierarchyCluster(points):\n",
    "            y = scipy.spatial.distance.pdist([p for p in points])\n",
    "            Z = scipy.cluster.hierarchy.single(y)\n",
    "            return scipy.cluster.hierarchy.fcluster(Z, eps, criterion='distance')\n",
    "\n",
    "        clusteringAlgo = hierarchyCluster\n",
    "        nmi_scores = []\n",
    "        while len(nmi_scores) < runs:\n",
    "            points, trueLabels = dataloader.random2cluster(var, wantedDist, jitter)\n",
    "\n",
    "            if debug: plot.plot(points, trueLabels, dotSize=5, saveFigure = True)\n",
    "            labels = clusteringAlgo(points)\n",
    "            if debug: plot.plot(points, labels, title=f\"clusteringAlgo {nmi}\", dotSize=5)\n",
    "            if max(np.bincount(labels)) < 1000:\n",
    "                print(\"X\", end=\"\", flush=True)\n",
    "                continue\n",
    "            nmi = sklearn.metrics.normalized_mutual_info_score(trueLabels, labels, average_method='arithmetic')\n",
    "            \n",
    "\n",
    "            allowedVars = np.linspace(0, 1, 50)\n",
    "            nmis = []\n",
    "            for allowedVar in allowedVars:\n",
    "                labelsCD = chaindetection.chainDetection(points, [l for l in labels], eps, allowedVar, clusteringAlgo, chainDim=1)\n",
    "                if debug>=2: plot.plot(points, labelsCD, title=f\"Chaindetection, allowedVar: {allowedVar}\")\n",
    "                nmi = sklearn.metrics.normalized_mutual_info_score(trueLabels, labelsCD, average_method='arithmetic')\n",
    "                nmis.append(nmi)\n",
    "            if debug: \n",
    "                plt.show()\n",
    "                plt.scatter(allowedVars, nmis)\n",
    "                plt.show()\n",
    "            nmi_scores.append(nmis)\n",
    "            print(\".\", end=\"\", flush=True)\n",
    "        np.save(name, np.array(nmi_scores))\n",
    "        avg_scores = sum([np.array(n) for n in nmi_scores]) / len(nmi_scores)\n"
   ]
  },
  {
   "cell_type": "code",
   "execution_count": 6,
   "metadata": {},
   "outputs": [
    {
     "data": {
      "image/png": "[encoded data removed]",
      "text/plain": [
       "<Figure size 432x288 with 2 Axes>"
      ]
     },
     "metadata": {
      "needs_background": "light"
     },
     "output_type": "display_data"
    }
   ],
   "source": [
    "import matplotlib as mpl\n",
    "import matplotlib.cm as cm\n",
    "\n",
    "for i,jitter in enumerate([\"0\", \"05\", \"1\", \"15\", \"2\", \"25\", \"3\"]):\n",
    "    nmi_scores = np.load(f\"avg nmi score hierarchyCluster var 0.3, wantedDist 0.05, jitter 0.{jitter}, eps 0.3, min_samples 4, runs 50.npy\")\n",
    "    avg_scores = sum([np.array(n) for n in nmi_scores]) / len(nmi_scores)\n",
    "    barwidth = allowedVars[1] - allowedVars[0]\n",
    "    plt.barh(f\"0.{jitter}\", [barwidth] * len(avg_scores), color=[cm.Greens(i) for i in avg_scores], left=allowedVars)\n",
    "    bestIndex = np.where(avg_scores == max(avg_scores))[0][0]\n",
    "    plt.text(bestIndex*barwidth, f\"0.{jitter}\", \"%2.2f\" % max(avg_scores), ha='center', va='center', color=\"white\")\n",
    "plt.xlabel(\"allowedVar\")\n",
    "plt.ylabel(\"standard deviation of \\n normal distributed chainpoint offset\")\n",
    "#plt.title(\"NMI score for different chain densities and allowedVar parameters\")\n",
    "sm = plt.cm.ScalarMappable(cmap=plt.get_cmap('Greens',100), norm=mpl.colors.Normalize(vmin=0,vmax=1))\n",
    "sm.set_array([])\n",
    "plt.colorbar(sm, ticks=np.arange(0,1.001,.1), \n",
    "             boundaries=np.arange(0,1.001,.001)).set_label(\"NMI score\")\n",
    "plt.savefig(\"allowedVarRobustness.png\")\n"
   ]
  },
  {
   "cell_type": "code",
   "execution_count": null,
   "metadata": {},
   "outputs": [],
   "source": []
  }
 ],
 "metadata": {
  "kernelspec": {
   "display_name": "Python 3",
   "language": "python",
   "name": "python3"
  },
  "language_info": {
   "codemirror_mode": {
    "name": "ipython",
    "version": 3
   },
   "file_extension": ".py",
   "mimetype": "text/x-python",
   "name": "python",
   "nbconvert_exporter": "python",
   "pygments_lexer": "ipython3",
   "version": "3.6.8"
  }
 },
 "nbformat": 4,
 "nbformat_minor": 2
}
